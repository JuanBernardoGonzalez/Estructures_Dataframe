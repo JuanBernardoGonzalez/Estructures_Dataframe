{
 "cells": [
  {
   "cell_type": "markdown",
   "id": "c45078de",
   "metadata": {},
   "source": [
    "# Tarea M3 T02 "
   ]
  },
  {
   "cell_type": "markdown",
   "id": "6bcad7b6",
   "metadata": {},
   "source": [
    "# Ejercicio 1"
   ]
  },
  {
   "cell_type": "markdown",
   "id": "680f99a0",
   "metadata": {},
   "source": [
    "## Descargo el archivo"
   ]
  },
  {
   "cell_type": "code",
   "execution_count": 1,
   "id": "5cfdae49",
   "metadata": {},
   "outputs": [
    {
     "data": {
      "text/html": [
       "<div>\n",
       "<style scoped>\n",
       "    .dataframe tbody tr th:only-of-type {\n",
       "        vertical-align: middle;\n",
       "    }\n",
       "\n",
       "    .dataframe tbody tr th {\n",
       "        vertical-align: top;\n",
       "    }\n",
       "\n",
       "    .dataframe thead th {\n",
       "        text-align: right;\n",
       "    }\n",
       "</style>\n",
       "<table border=\"1\" class=\"dataframe\">\n",
       "  <thead>\n",
       "    <tr style=\"text-align: right;\">\n",
       "      <th></th>\n",
       "      <th>Unnamed: 0</th>\n",
       "      <th>Year</th>\n",
       "      <th>Month</th>\n",
       "      <th>DayofMonth</th>\n",
       "      <th>DayOfWeek</th>\n",
       "      <th>DepTime</th>\n",
       "      <th>CRSDepTime</th>\n",
       "      <th>ArrTime</th>\n",
       "      <th>CRSArrTime</th>\n",
       "      <th>UniqueCarrier</th>\n",
       "      <th>...</th>\n",
       "      <th>TaxiIn</th>\n",
       "      <th>TaxiOut</th>\n",
       "      <th>Cancelled</th>\n",
       "      <th>CancellationCode</th>\n",
       "      <th>Diverted</th>\n",
       "      <th>CarrierDelay</th>\n",
       "      <th>WeatherDelay</th>\n",
       "      <th>NASDelay</th>\n",
       "      <th>SecurityDelay</th>\n",
       "      <th>LateAircraftDelay</th>\n",
       "    </tr>\n",
       "  </thead>\n",
       "  <tbody>\n",
       "    <tr>\n",
       "      <th>0</th>\n",
       "      <td>0</td>\n",
       "      <td>2008</td>\n",
       "      <td>1</td>\n",
       "      <td>3</td>\n",
       "      <td>4</td>\n",
       "      <td>2003.0</td>\n",
       "      <td>1955</td>\n",
       "      <td>2211.0</td>\n",
       "      <td>2225</td>\n",
       "      <td>WN</td>\n",
       "      <td>...</td>\n",
       "      <td>4.0</td>\n",
       "      <td>8.0</td>\n",
       "      <td>0</td>\n",
       "      <td>N</td>\n",
       "      <td>0</td>\n",
       "      <td>NaN</td>\n",
       "      <td>NaN</td>\n",
       "      <td>NaN</td>\n",
       "      <td>NaN</td>\n",
       "      <td>NaN</td>\n",
       "    </tr>\n",
       "    <tr>\n",
       "      <th>1</th>\n",
       "      <td>1</td>\n",
       "      <td>2008</td>\n",
       "      <td>1</td>\n",
       "      <td>3</td>\n",
       "      <td>4</td>\n",
       "      <td>754.0</td>\n",
       "      <td>735</td>\n",
       "      <td>1002.0</td>\n",
       "      <td>1000</td>\n",
       "      <td>WN</td>\n",
       "      <td>...</td>\n",
       "      <td>5.0</td>\n",
       "      <td>10.0</td>\n",
       "      <td>0</td>\n",
       "      <td>N</td>\n",
       "      <td>0</td>\n",
       "      <td>NaN</td>\n",
       "      <td>NaN</td>\n",
       "      <td>NaN</td>\n",
       "      <td>NaN</td>\n",
       "      <td>NaN</td>\n",
       "    </tr>\n",
       "    <tr>\n",
       "      <th>2</th>\n",
       "      <td>2</td>\n",
       "      <td>2008</td>\n",
       "      <td>1</td>\n",
       "      <td>3</td>\n",
       "      <td>4</td>\n",
       "      <td>628.0</td>\n",
       "      <td>620</td>\n",
       "      <td>804.0</td>\n",
       "      <td>750</td>\n",
       "      <td>WN</td>\n",
       "      <td>...</td>\n",
       "      <td>3.0</td>\n",
       "      <td>17.0</td>\n",
       "      <td>0</td>\n",
       "      <td>N</td>\n",
       "      <td>0</td>\n",
       "      <td>NaN</td>\n",
       "      <td>NaN</td>\n",
       "      <td>NaN</td>\n",
       "      <td>NaN</td>\n",
       "      <td>NaN</td>\n",
       "    </tr>\n",
       "    <tr>\n",
       "      <th>3</th>\n",
       "      <td>4</td>\n",
       "      <td>2008</td>\n",
       "      <td>1</td>\n",
       "      <td>3</td>\n",
       "      <td>4</td>\n",
       "      <td>1829.0</td>\n",
       "      <td>1755</td>\n",
       "      <td>1959.0</td>\n",
       "      <td>1925</td>\n",
       "      <td>WN</td>\n",
       "      <td>...</td>\n",
       "      <td>3.0</td>\n",
       "      <td>10.0</td>\n",
       "      <td>0</td>\n",
       "      <td>N</td>\n",
       "      <td>0</td>\n",
       "      <td>2.0</td>\n",
       "      <td>0.0</td>\n",
       "      <td>0.0</td>\n",
       "      <td>0.0</td>\n",
       "      <td>32.0</td>\n",
       "    </tr>\n",
       "    <tr>\n",
       "      <th>4</th>\n",
       "      <td>5</td>\n",
       "      <td>2008</td>\n",
       "      <td>1</td>\n",
       "      <td>3</td>\n",
       "      <td>4</td>\n",
       "      <td>1940.0</td>\n",
       "      <td>1915</td>\n",
       "      <td>2121.0</td>\n",
       "      <td>2110</td>\n",
       "      <td>WN</td>\n",
       "      <td>...</td>\n",
       "      <td>4.0</td>\n",
       "      <td>10.0</td>\n",
       "      <td>0</td>\n",
       "      <td>N</td>\n",
       "      <td>0</td>\n",
       "      <td>NaN</td>\n",
       "      <td>NaN</td>\n",
       "      <td>NaN</td>\n",
       "      <td>NaN</td>\n",
       "      <td>NaN</td>\n",
       "    </tr>\n",
       "  </tbody>\n",
       "</table>\n",
       "<p>5 rows × 30 columns</p>\n",
       "</div>"
      ],
      "text/plain": [
       "   Unnamed: 0  Year  Month  DayofMonth  DayOfWeek  DepTime  CRSDepTime  \\\n",
       "0           0  2008      1           3          4   2003.0        1955   \n",
       "1           1  2008      1           3          4    754.0         735   \n",
       "2           2  2008      1           3          4    628.0         620   \n",
       "3           4  2008      1           3          4   1829.0        1755   \n",
       "4           5  2008      1           3          4   1940.0        1915   \n",
       "\n",
       "   ArrTime  CRSArrTime UniqueCarrier  ...  TaxiIn TaxiOut  Cancelled  \\\n",
       "0   2211.0        2225            WN  ...     4.0     8.0          0   \n",
       "1   1002.0        1000            WN  ...     5.0    10.0          0   \n",
       "2    804.0         750            WN  ...     3.0    17.0          0   \n",
       "3   1959.0        1925            WN  ...     3.0    10.0          0   \n",
       "4   2121.0        2110            WN  ...     4.0    10.0          0   \n",
       "\n",
       "   CancellationCode  Diverted  CarrierDelay  WeatherDelay NASDelay  \\\n",
       "0                 N         0           NaN           NaN      NaN   \n",
       "1                 N         0           NaN           NaN      NaN   \n",
       "2                 N         0           NaN           NaN      NaN   \n",
       "3                 N         0           2.0           0.0      0.0   \n",
       "4                 N         0           NaN           NaN      NaN   \n",
       "\n",
       "  SecurityDelay  LateAircraftDelay  \n",
       "0           NaN                NaN  \n",
       "1           NaN                NaN  \n",
       "2           NaN                NaN  \n",
       "3           0.0               32.0  \n",
       "4           NaN                NaN  \n",
       "\n",
       "[5 rows x 30 columns]"
      ]
     },
     "execution_count": 1,
     "metadata": {},
     "output_type": "execute_result"
    }
   ],
   "source": [
    "import pandas as pd\n",
    "Air_Del = pd.read_csv('C:/Juan/ITAcademy/Sprint_3/archive/DelayedFlights.csv')\n",
    "Air_Del.head()"
   ]
  },
  {
   "cell_type": "markdown",
   "id": "db09f8df",
   "metadata": {},
   "source": [
    "## Exploro los datos y explico variables"
   ]
  },
  {
   "cell_type": "code",
   "execution_count": 2,
   "id": "b952b7e3",
   "metadata": {},
   "outputs": [
    {
     "data": {
      "text/plain": [
       "(1936758, 30)"
      ]
     },
     "execution_count": 2,
     "metadata": {},
     "output_type": "execute_result"
    }
   ],
   "source": [
    "Air_Del.shape"
   ]
  },
  {
   "cell_type": "code",
   "execution_count": 3,
   "id": "1170e253",
   "metadata": {},
   "outputs": [
    {
     "name": "stdout",
     "output_type": "stream",
     "text": [
      "<class 'pandas.core.frame.DataFrame'>\n",
      "RangeIndex: 1936758 entries, 0 to 1936757\n",
      "Data columns (total 30 columns):\n",
      " #   Column             Dtype  \n",
      "---  ------             -----  \n",
      " 0   Unnamed: 0         int64  \n",
      " 1   Year               int64  \n",
      " 2   Month              int64  \n",
      " 3   DayofMonth         int64  \n",
      " 4   DayOfWeek          int64  \n",
      " 5   DepTime            float64\n",
      " 6   CRSDepTime         int64  \n",
      " 7   ArrTime            float64\n",
      " 8   CRSArrTime         int64  \n",
      " 9   UniqueCarrier      object \n",
      " 10  FlightNum          int64  \n",
      " 11  TailNum            object \n",
      " 12  ActualElapsedTime  float64\n",
      " 13  CRSElapsedTime     float64\n",
      " 14  AirTime            float64\n",
      " 15  ArrDelay           float64\n",
      " 16  DepDelay           float64\n",
      " 17  Origin             object \n",
      " 18  Dest               object \n",
      " 19  Distance           int64  \n",
      " 20  TaxiIn             float64\n",
      " 21  TaxiOut            float64\n",
      " 22  Cancelled          int64  \n",
      " 23  CancellationCode   object \n",
      " 24  Diverted           int64  \n",
      " 25  CarrierDelay       float64\n",
      " 26  WeatherDelay       float64\n",
      " 27  NASDelay           float64\n",
      " 28  SecurityDelay      float64\n",
      " 29  LateAircraftDelay  float64\n",
      "dtypes: float64(14), int64(11), object(5)\n",
      "memory usage: 443.3+ MB\n"
     ]
    }
   ],
   "source": [
    "Air_Del.info()"
   ]
  },
  {
   "cell_type": "markdown",
   "id": "37ba070e",
   "metadata": {},
   "source": [
    "### Explicación variables\n",
    "\n",
    "El conjunto de datos *\"DelayedFlights\"* tiene 30  columnas, 1,936,758  entradas y 29 variables.   \n",
    "\n",
    "\n",
    "0. Unnamed: columna sin nombre y son números enteros (int64)\n",
    "1. Year: año 2008 y son números enteros (int64)\n",
    "2. Month:  los meses del año (1 a 12) y son números enteros (int64)\n",
    "3. DayofMonth: días del mes (1-31) y son números enteros (int64)\n",
    "4. DayOfWeek: días de la semana, 1 (lunes) - 7 (domingo) y son números enteros (int64)\n",
    "5. DepTime: hora de salida actual en hhmm y son números con decimales (float64)\n",
    "6. CRSDepTime: hora se salida prevista en hhmm y son números enteros (int64)\n",
    "7. ArrTime: hora de llegada en hhmm y son números con decimales (float64) \n",
    "8. CRSArrTime: hora de llegada prevista en hhmm y son números enteros (int64)\n",
    "9. UniqueCarrier:  código de operadora es un objeto \n",
    "10. FlightNum: número de vuelo son enteros (int64)\n",
    "11. TailNum:  número de cola del avión es un objeto\n",
    "12. ActualElapsedTime: tiempo transcurrido de vuelo desde la puerta de salida en miutos y son números con decimales (float64)\n",
    "13. CRSElapsedTime: tiempo previsto de vuelo desde la puerta de salida en minutos y son números con decimales (float64)\n",
    "14. AirTime: tiempo de vuelo en minutos y son números con decimales (float64)\n",
    "15. ArrDelay: diferencia entre el tiempo de llegada real y previsto en minutos y son números con decimales (float64). Nota: un vuelo está a tiempo si no se retrasa más de 15min. \n",
    "16. DepDelay: diferencia entre el tiempo de salida real y previsto en minutos y son números con decimales (float64)\n",
    "17. Origin: código del aeropuerto de orígen es objeto\n",
    "18. Dest: código del aeropuerto de destino es objeto\n",
    "19. Distance: distancia entre aeropuertos en millas y son enteros (int64)\n",
    "20. TaxiIn: tiempo entre ruedas bajadas y llegada a la puerta del aeropuerto de destino en minutos y son números con decimales (float64)\n",
    "21. TaxiOut: tiempo entre la salida de la puerta del aeropuerto de salida y las ruedas subidas en minutos y son números con decimales (float64) \n",
    "22. Cancelled: fue cancelado el vuelo? son números enteros (int64)\n",
    "23. CancellationCode: razón de la cancelación (A=carrier, B=weather, C=NAS, D=security), es objeto\n",
    "24. Diverted: si fue desviado el vuelo, 1 = yes, 0 = no, son números enteros (int64)\n",
    "25. CarrierDelay: retraso por el avión en minutos y son números con decimales (float64)\n",
    "26. WeatherDelay: retraso por el clima en minutos y son números con decimales (float64)\n",
    "27. NASDelay: retraso por NAS en minutos y son números con decimales (float64)\n",
    "28. SecurityDelay: retraso por seguridad en minutos y son números con decimales (float64)\n",
    "29. LateAircraftDelay: retraso de última hora en minutos y son números con decimales (float64)"
   ]
  },
  {
   "cell_type": "markdown",
   "id": "dcaf227c",
   "metadata": {},
   "source": [
    "### Columnas no relevantes\n",
    "\n",
    "- 0. Unamed: son números enteros que en este contexto no se sabe para qué sirven. \n",
    "- 1. Year: al ser siempre 2008 no nos aporta gran cosa para hacer una análisis estadístico \n",
    "- 11. TailNum: el número de cola del avión no me parece relevante al tener la operadora y el número de vuelo como identificadores\n",
    "- 20. y 21. TaxiIn y TaxiOut: están sumados en ActualElapsedTime y no tengo forma de saber si los tiempos transcurridos de taxi de salida o de llegada han provocado algún retraso porque no tengo los tiempos estimados de taxi de llegada ni de salida. \n",
    " \n",
    "\n",
    "\n",
    "\n"
   ]
  },
  {
   "cell_type": "markdown",
   "id": "4685d969",
   "metadata": {},
   "source": [
    "### Reduciendo columnas y la dimensión del conjunto de datos"
   ]
  },
  {
   "cell_type": "code",
   "execution_count": 4,
   "id": "5a8cae36",
   "metadata": {},
   "outputs": [
    {
     "data": {
      "text/plain": [
       "(200000, 25)"
      ]
     },
     "execution_count": 4,
     "metadata": {},
     "output_type": "execute_result"
    }
   ],
   "source": [
    "Air_Del_Red = Air_Del.drop(['Unnamed: 0', 'Year','TailNum','TaxiIn','TaxiOut'], axis = 1)\n",
    "Ret_Vuelos = Air_Del_Red.sample(n=200000, random_state=1)\n",
    "Ret_Vuelos.shape"
   ]
  },
  {
   "cell_type": "markdown",
   "id": "f4c1e735",
   "metadata": {},
   "source": [
    "## Ejercicio 2"
   ]
  },
  {
   "cell_type": "markdown",
   "id": "5e828079",
   "metadata": {},
   "source": [
    "## Resumo estadísticamente el conjunto de datos con las variables de interés y hago el análisis correspondiente. "
   ]
  },
  {
   "cell_type": "code",
   "execution_count": 5,
   "id": "e73547e9",
   "metadata": {},
   "outputs": [
    {
     "name": "stdout",
     "output_type": "stream",
     "text": [
      "<class 'pandas.core.frame.DataFrame'>\n",
      "Int64Index: 200000 entries, 1750755 to 1526456\n",
      "Data columns (total 25 columns):\n",
      " #   Column             Non-Null Count   Dtype  \n",
      "---  ------             --------------   -----  \n",
      " 0   Month              200000 non-null  int64  \n",
      " 1   DayofMonth         200000 non-null  int64  \n",
      " 2   DayOfWeek          200000 non-null  int64  \n",
      " 3   DepTime            200000 non-null  float64\n",
      " 4   CRSDepTime         200000 non-null  int64  \n",
      " 5   ArrTime            199208 non-null  float64\n",
      " 6   CRSArrTime         200000 non-null  int64  \n",
      " 7   UniqueCarrier      200000 non-null  object \n",
      " 8   FlightNum          200000 non-null  int64  \n",
      " 9   ActualElapsedTime  199080 non-null  float64\n",
      " 10  CRSElapsedTime     199982 non-null  float64\n",
      " 11  AirTime            199080 non-null  float64\n",
      " 12  ArrDelay           199080 non-null  float64\n",
      " 13  DepDelay           200000 non-null  float64\n",
      " 14  Origin             200000 non-null  object \n",
      " 15  Dest               200000 non-null  object \n",
      " 16  Distance           200000 non-null  int64  \n",
      " 17  Cancelled          200000 non-null  int64  \n",
      " 18  CancellationCode   200000 non-null  object \n",
      " 19  Diverted           200000 non-null  int64  \n",
      " 20  CarrierDelay       128790 non-null  float64\n",
      " 21  WeatherDelay       128790 non-null  float64\n",
      " 22  NASDelay           128790 non-null  float64\n",
      " 23  SecurityDelay      128790 non-null  float64\n",
      " 24  LateAircraftDelay  128790 non-null  float64\n",
      "dtypes: float64(12), int64(9), object(4)\n",
      "memory usage: 39.7+ MB\n"
     ]
    }
   ],
   "source": [
    "Ret_Vuelos.info()"
   ]
  },
  {
   "cell_type": "code",
   "execution_count": 6,
   "id": "f4b95834",
   "metadata": {},
   "outputs": [
    {
     "data": {
      "text/html": [
       "<div>\n",
       "<style scoped>\n",
       "    .dataframe tbody tr th:only-of-type {\n",
       "        vertical-align: middle;\n",
       "    }\n",
       "\n",
       "    .dataframe tbody tr th {\n",
       "        vertical-align: top;\n",
       "    }\n",
       "\n",
       "    .dataframe thead th {\n",
       "        text-align: right;\n",
       "    }\n",
       "</style>\n",
       "<table border=\"1\" class=\"dataframe\">\n",
       "  <thead>\n",
       "    <tr style=\"text-align: right;\">\n",
       "      <th></th>\n",
       "      <th>ActualElapsedTime</th>\n",
       "      <th>CRSElapsedTime</th>\n",
       "      <th>AirTime</th>\n",
       "      <th>ArrDelay</th>\n",
       "      <th>CarrierDelay</th>\n",
       "      <th>WeatherDelay</th>\n",
       "      <th>NASDelay</th>\n",
       "      <th>SecurityDelay</th>\n",
       "      <th>LateAircraftDelay</th>\n",
       "    </tr>\n",
       "  </thead>\n",
       "  <tbody>\n",
       "    <tr>\n",
       "      <th>count</th>\n",
       "      <td>199080.000000</td>\n",
       "      <td>199982.000000</td>\n",
       "      <td>199080.00000</td>\n",
       "      <td>199080.000000</td>\n",
       "      <td>128790.000000</td>\n",
       "      <td>128790.000000</td>\n",
       "      <td>128790.000000</td>\n",
       "      <td>128790.000000</td>\n",
       "      <td>128790.000000</td>\n",
       "    </tr>\n",
       "    <tr>\n",
       "      <th>mean</th>\n",
       "      <td>133.279908</td>\n",
       "      <td>134.349746</td>\n",
       "      <td>108.27390</td>\n",
       "      <td>42.196253</td>\n",
       "      <td>19.210335</td>\n",
       "      <td>3.696871</td>\n",
       "      <td>15.055633</td>\n",
       "      <td>0.082708</td>\n",
       "      <td>25.225872</td>\n",
       "    </tr>\n",
       "    <tr>\n",
       "      <th>std</th>\n",
       "      <td>71.963520</td>\n",
       "      <td>71.335257</td>\n",
       "      <td>68.56642</td>\n",
       "      <td>56.785793</td>\n",
       "      <td>43.390607</td>\n",
       "      <td>21.240432</td>\n",
       "      <td>33.606039</td>\n",
       "      <td>1.864354</td>\n",
       "      <td>42.617552</td>\n",
       "    </tr>\n",
       "    <tr>\n",
       "      <th>min</th>\n",
       "      <td>17.000000</td>\n",
       "      <td>-21.000000</td>\n",
       "      <td>2.00000</td>\n",
       "      <td>-59.000000</td>\n",
       "      <td>0.000000</td>\n",
       "      <td>0.000000</td>\n",
       "      <td>0.000000</td>\n",
       "      <td>0.000000</td>\n",
       "      <td>0.000000</td>\n",
       "    </tr>\n",
       "    <tr>\n",
       "      <th>25%</th>\n",
       "      <td>80.000000</td>\n",
       "      <td>82.000000</td>\n",
       "      <td>58.00000</td>\n",
       "      <td>9.000000</td>\n",
       "      <td>0.000000</td>\n",
       "      <td>0.000000</td>\n",
       "      <td>0.000000</td>\n",
       "      <td>0.000000</td>\n",
       "      <td>0.000000</td>\n",
       "    </tr>\n",
       "    <tr>\n",
       "      <th>50%</th>\n",
       "      <td>116.000000</td>\n",
       "      <td>117.000000</td>\n",
       "      <td>90.00000</td>\n",
       "      <td>24.000000</td>\n",
       "      <td>2.000000</td>\n",
       "      <td>0.000000</td>\n",
       "      <td>2.000000</td>\n",
       "      <td>0.000000</td>\n",
       "      <td>8.000000</td>\n",
       "    </tr>\n",
       "    <tr>\n",
       "      <th>75%</th>\n",
       "      <td>165.000000</td>\n",
       "      <td>165.000000</td>\n",
       "      <td>137.00000</td>\n",
       "      <td>56.000000</td>\n",
       "      <td>21.000000</td>\n",
       "      <td>0.000000</td>\n",
       "      <td>14.000000</td>\n",
       "      <td>0.000000</td>\n",
       "      <td>33.000000</td>\n",
       "    </tr>\n",
       "    <tr>\n",
       "      <th>max</th>\n",
       "      <td>790.000000</td>\n",
       "      <td>660.000000</td>\n",
       "      <td>733.00000</td>\n",
       "      <td>1951.000000</td>\n",
       "      <td>1951.000000</td>\n",
       "      <td>1070.000000</td>\n",
       "      <td>604.000000</td>\n",
       "      <td>229.000000</td>\n",
       "      <td>1316.000000</td>\n",
       "    </tr>\n",
       "  </tbody>\n",
       "</table>\n",
       "</div>"
      ],
      "text/plain": [
       "       ActualElapsedTime  CRSElapsedTime       AirTime       ArrDelay  \\\n",
       "count      199080.000000   199982.000000  199080.00000  199080.000000   \n",
       "mean          133.279908      134.349746     108.27390      42.196253   \n",
       "std            71.963520       71.335257      68.56642      56.785793   \n",
       "min            17.000000      -21.000000       2.00000     -59.000000   \n",
       "25%            80.000000       82.000000      58.00000       9.000000   \n",
       "50%           116.000000      117.000000      90.00000      24.000000   \n",
       "75%           165.000000      165.000000     137.00000      56.000000   \n",
       "max           790.000000      660.000000     733.00000    1951.000000   \n",
       "\n",
       "        CarrierDelay   WeatherDelay       NASDelay  SecurityDelay  \\\n",
       "count  128790.000000  128790.000000  128790.000000  128790.000000   \n",
       "mean       19.210335       3.696871      15.055633       0.082708   \n",
       "std        43.390607      21.240432      33.606039       1.864354   \n",
       "min         0.000000       0.000000       0.000000       0.000000   \n",
       "25%         0.000000       0.000000       0.000000       0.000000   \n",
       "50%         2.000000       0.000000       2.000000       0.000000   \n",
       "75%        21.000000       0.000000      14.000000       0.000000   \n",
       "max      1951.000000    1070.000000     604.000000     229.000000   \n",
       "\n",
       "       LateAircraftDelay  \n",
       "count      128790.000000  \n",
       "mean           25.225872  \n",
       "std            42.617552  \n",
       "min             0.000000  \n",
       "25%             0.000000  \n",
       "50%             8.000000  \n",
       "75%            33.000000  \n",
       "max          1316.000000  "
      ]
     },
     "execution_count": 6,
     "metadata": {},
     "output_type": "execute_result"
    }
   ],
   "source": [
    "Ret_Vuelos[['ActualElapsedTime','CRSElapsedTime','AirTime','ArrDelay','CarrierDelay',\n",
    "            'WeatherDelay','NASDelay','SecurityDelay','LateAircraftDelay']].describe()"
   ]
  },
  {
   "cell_type": "code",
   "execution_count": 7,
   "id": "28c7a59d",
   "metadata": {},
   "outputs": [
    {
     "data": {
      "text/plain": [
       "0"
      ]
     },
     "execution_count": 7,
     "metadata": {},
     "output_type": "execute_result"
    }
   ],
   "source": [
    "Ret_Vuelos.duplicated().sum()"
   ]
  },
  {
   "cell_type": "markdown",
   "id": "8fb08756",
   "metadata": {},
   "source": [
    "- No hay filas duplicadas en la muestra por lo que no se ha de hacer nada en este sentido. "
   ]
  },
  {
   "cell_type": "code",
   "execution_count": 8,
   "id": "89801778",
   "metadata": {},
   "outputs": [
    {
     "data": {
      "text/plain": [
       "77"
      ]
     },
     "execution_count": 8,
     "metadata": {},
     "output_type": "execute_result"
    }
   ],
   "source": [
    "Ret_Vuelos['Cancelled'][Ret_Vuelos['Cancelled']==1].count()"
   ]
  },
  {
   "cell_type": "markdown",
   "id": "97d23c10",
   "metadata": {},
   "source": [
    "- Tengo 77 vuelos cancelados en la muestra que voy a eliminar, sólo me quedo con los vuelos que sí han hecho el trayecto previsto. "
   ]
  },
  {
   "cell_type": "code",
   "execution_count": 9,
   "id": "30b3d07a",
   "metadata": {},
   "outputs": [
    {
     "data": {
      "text/plain": [
       "(199923, 25)"
      ]
     },
     "execution_count": 9,
     "metadata": {},
     "output_type": "execute_result"
    }
   ],
   "source": [
    "RetVuel_NCancell = Ret_Vuelos.drop(Ret_Vuelos[(Ret_Vuelos['Cancelled'] ==1)].index, inplace=False)\n",
    "RetVuel_NCancell.shape"
   ]
  },
  {
   "cell_type": "markdown",
   "id": "0fa3392f",
   "metadata": {},
   "source": [
    "- Detecto outliers extremos (con un límite superior mayor o igual al tercer cuartil más tres veces el rango intercuartílico y un límite inferior menor o igual al primer cuartil menos 3 veces el rango intercuartílico) de las variables relevantes y borro las filas correspondientes para reducir sesgos en el análisis. \n",
    "- Pongo un **ejemplo** de cómo lo hago para la **variable AirTime**, con el resto de variables procederé de igual forma. "
   ]
  },
  {
   "cell_type": "code",
   "execution_count": 10,
   "id": "07609c65",
   "metadata": {},
   "outputs": [
    {
     "data": {
      "text/plain": [
       "<Axes: >"
      ]
     },
     "execution_count": 10,
     "metadata": {},
     "output_type": "execute_result"
    },
    {
     "data": {
      "image/png": "[encoded data removed]",
      "text/plain": [
       "<Figure size 640x480 with 1 Axes>"
      ]
     },
     "metadata": {},
     "output_type": "display_data"
    }
   ],
   "source": [
    "import seaborn as sns\n",
    "sns.boxplot(Ret_Vuelos['AirTime'])"
   ]
  },
  {
   "cell_type": "markdown",
   "id": "decd3d86",
   "metadata": {},
   "source": [
    "- En los diagramas de caja identifico que todos los outliers de todas las variables (como ejemplo muestro AirTime) caen del lado positivo, por lo que sólo tomaré en cuanta el límite superior. "
   ]
  },
  {
   "cell_type": "code",
   "execution_count": 11,
   "id": "4b33546f",
   "metadata": {},
   "outputs": [
    {
     "data": {
      "text/plain": [
       "374.0"
      ]
     },
     "execution_count": 11,
     "metadata": {},
     "output_type": "execute_result"
    }
   ],
   "source": [
    "Q1AirTime = RetVuel_NCancell['AirTime'].quantile(0.25)\n",
    "Q3AirTime = RetVuel_NCancell['AirTime'].quantile(0.75)\n",
    "IQR_AirTime = Q3AirTime - Q1AirTime\n",
    "IQR_AirTime\n",
    "LimitInf = Q1AirTime - 3 * IQR_AirTime\n",
    "LimitSup = Q3AirTime + 3 * IQR_AirTime\n",
    "LimitSup"
   ]
  },
  {
   "cell_type": "code",
   "execution_count": 12,
   "id": "0e9148ea",
   "metadata": {},
   "outputs": [
    {
     "name": "stdout",
     "output_type": "stream",
     "text": [
      "Para AirTime tengo un total de valores extremos de: 476\n"
     ]
    }
   ],
   "source": [
    "print(\"Para AirTime tengo un total de valores extremos de:\"\n",
    "      ,RetVuel_NCancell['AirTime'][RetVuel_NCancell['AirTime']>=374].count())"
   ]
  },
  {
   "cell_type": "code",
   "execution_count": 13,
   "id": "ab23fb24",
   "metadata": {},
   "outputs": [
    {
     "data": {
      "text/plain": [
       "(199447, 25)"
      ]
     },
     "execution_count": 13,
     "metadata": {},
     "output_type": "execute_result"
    }
   ],
   "source": [
    "RetVuel_Out1 = RetVuel_NCancell.drop(RetVuel_NCancell[(RetVuel_NCancell['AirTime'] >=374)].index, inplace=False)\n",
    "RetVuel_Out1.shape"
   ]
  },
  {
   "cell_type": "code",
   "execution_count": 14,
   "id": "804782cc",
   "metadata": {},
   "outputs": [],
   "source": [
    "RetVuel_Out1.drop(RetVuel_Out1[(RetVuel_Out1['ActualElapsedTime'] >=420)].index, inplace=True)\n",
    "RetVuel_Out1.drop(RetVuel_Out1[(RetVuel_Out1['CRSElapsedTime'] >=414)].index, inplace=True)\n",
    "RetVuel_Out1.drop(RetVuel_Out1[(RetVuel_Out1['ArrDelay'] >=197)].index, inplace=True)\n",
    "RetVuel_Out1.drop(RetVuel_Out1[(RetVuel_Out1['CarrierDelay'] >=84)].index, inplace=True)\n",
    "RetVuel_Out1.drop(RetVuel_Out1[(RetVuel_Out1['NASDelay'] >=56)].index, inplace=True)\n",
    "RetVuel_Out1.drop(RetVuel_Out1[(RetVuel_Out1['LateAircraftDelay'] >=132)].index, inplace=True)"
   ]
  },
  {
   "cell_type": "markdown",
   "id": "bd3b60ee",
   "metadata": {},
   "source": [
    "- *Nota 1:* La variable \"ArrTime\" no tiene outliers extremos por lo que no elimino filas relacionadas con ella.\n",
    "- *Nota 2.* Las variables \"WeatherDelay\" y \"SecurityDelay\" están muy concentradas alrededor de la media, no existe dispersión y el rango intercuartílico tinde a cero. Por ello no saco los valores extremos.  "
   ]
  },
  {
   "cell_type": "code",
   "execution_count": 15,
   "id": "c803a937",
   "metadata": {},
   "outputs": [
    {
     "data": {
      "text/plain": [
       "(178516, 25)"
      ]
     },
     "execution_count": 15,
     "metadata": {},
     "output_type": "execute_result"
    }
   ],
   "source": [
    "RetVuel_Out1.shape"
   ]
  },
  {
   "cell_type": "markdown",
   "id": "59d37bc1",
   "metadata": {},
   "source": [
    "- Un vez eliminados los datos extremos, veo los histogramas, el gráfico de probabilidad, la asimetría de Fisher y el coeficiente de curtosis de cada variable **(como ejemplo uso sólo AirTime)**"
   ]
  },
  {
   "cell_type": "code",
   "execution_count": 16,
   "id": "37dea6d4",
   "metadata": {},
   "outputs": [
    {
     "data": {
      "text/plain": [
       "<Axes: ylabel='Frequency'>"
      ]
     },
     "execution_count": 16,
     "metadata": {},
     "output_type": "execute_result"
    },
    {
     "data": {
      "image/png": "[encoded data removed]",
      "text/plain": [
       "<Figure size 640x480 with 1 Axes>"
      ]
     },
     "metadata": {},
     "output_type": "display_data"
    }
   ],
   "source": [
    "RetVuel_Out1['AirTime'].plot.hist()"
   ]
  },
  {
   "cell_type": "code",
   "execution_count": 17,
   "id": "beae4a9a",
   "metadata": {},
   "outputs": [
    {
     "data": {
      "image/png": "[encoded data removed]",
      "text/plain": [
       "<Figure size 640x480 with 1 Axes>"
      ]
     },
     "metadata": {},
     "output_type": "display_data"
    }
   ],
   "source": [
    "import matplotlib.pyplot as plt\n",
    "from statsmodels.graphics.gofplots import qqplot\n",
    "qqplot(RetVuel_Out1['AirTime'] , line='s')\n",
    "plt.show()"
   ]
  },
  {
   "cell_type": "code",
   "execution_count": 18,
   "id": "76b95c6b",
   "metadata": {},
   "outputs": [
    {
     "data": {
      "text/plain": [
       "ArrTime              -1.010704\n",
       "ActualElapsedTime     1.263519\n",
       "CRSElapsedTime        1.274983\n",
       "AirTime               1.309440\n",
       "ArrDelay              1.437386\n",
       "CarrierDelay          1.723366\n",
       "WeatherDelay          6.698450\n",
       "NASDelay              1.930915\n",
       "SecurityDelay        39.719931\n",
       "LateAircraftDelay     1.574376\n",
       "dtype: float64"
      ]
     },
     "execution_count": 18,
     "metadata": {},
     "output_type": "execute_result"
    }
   ],
   "source": [
    "RetVuel_Out1[['ArrTime','ActualElapsedTime','CRSElapsedTime','AirTime','ArrDelay','CarrierDelay',\n",
    "            'WeatherDelay','NASDelay','SecurityDelay','LateAircraftDelay']].skew()"
   ]
  },
  {
   "cell_type": "code",
   "execution_count": 19,
   "id": "e92c8a67",
   "metadata": {},
   "outputs": [
    {
     "data": {
      "text/plain": [
       "ArrTime                 1.067652\n",
       "ActualElapsedTime       1.472606\n",
       "CRSElapsedTime          1.482232\n",
       "AirTime                 1.507303\n",
       "ArrDelay                2.537857\n",
       "CarrierDelay            2.457616\n",
       "WeatherDelay           52.674702\n",
       "NASDelay                3.294238\n",
       "SecurityDelay        2358.474361\n",
       "LateAircraftDelay       1.995246\n",
       "dtype: float64"
      ]
     },
     "execution_count": 19,
     "metadata": {},
     "output_type": "execute_result"
    }
   ],
   "source": [
    "RetVuel_Out1[['ArrTime','ActualElapsedTime','CRSElapsedTime','AirTime','ArrDelay','CarrierDelay',\n",
    "            'WeatherDelay','NASDelay','SecurityDelay','LateAircraftDelay']].kurtosis()"
   ]
  },
  {
   "cell_type": "markdown",
   "id": "f54de4af",
   "metadata": {},
   "source": [
    "- Viendo toda esta información concluyo que ninguna de las variables de interés se distribuye como normal. Ninguna se ajusta al gráfico de probabilidad y todas están sesgadas a la izquierda (menos \"ArrTime\" que está sesgada a la derecha), se ve tanto en los histogramas como en los coeficientes de asimetría, positivos y bastante altos. Finalmente todas son leptocúrticas con una concentración de datos mayor a la normal. "
   ]
  },
  {
   "cell_type": "markdown",
   "id": "534ac1d0",
   "metadata": {},
   "source": [
    "- Ahora miro los datos faltantes por columna."
   ]
  },
  {
   "cell_type": "code",
   "execution_count": 20,
   "id": "3d1454cc",
   "metadata": {},
   "outputs": [
    {
     "name": "stdout",
     "output_type": "stream",
     "text": [
      "Los datos faltantes por columna son: \n",
      " Month                    0\n",
      "DayofMonth               0\n",
      "DayOfWeek                0\n",
      "DepTime                  0\n",
      "CRSDepTime               0\n",
      "ArrTime                705\n",
      "CRSArrTime               0\n",
      "UniqueCarrier            0\n",
      "FlightNum                0\n",
      "ActualElapsedTime      827\n",
      "CRSElapsedTime          18\n",
      "AirTime                827\n",
      "ArrDelay               827\n",
      "DepDelay                 0\n",
      "Origin                   0\n",
      "Dest                     0\n",
      "Distance                 0\n",
      "Cancelled                0\n",
      "CancellationCode         0\n",
      "Diverted                 0\n",
      "CarrierDelay         70934\n",
      "WeatherDelay         70934\n",
      "NASDelay             70934\n",
      "SecurityDelay        70934\n",
      "LateAircraftDelay    70934\n",
      "dtype: int64\n"
     ]
    }
   ],
   "source": [
    "print(\"Los datos faltantes por columna son:\",'\\n',RetVuel_Out1.isnull().sum())"
   ]
  },
  {
   "cell_type": "markdown",
   "id": "8ed6670e",
   "metadata": {},
   "source": [
    "- Como ya sé que las variables: 'ArrTime','ActualElapsedTime','CRSElapsedTime','AirTime' y 'ArrDelay' no se distribuyen como normal, voy a usar la **mediana** en lugar de la media para sustituir los valores nulos, así no sesgaré innecesariamente los datos para el análisis.  \n",
    "- Por otro lado están las variables: 'CarrierDelay','WeatherDelay', 'NASDelay','SecurityDelay' y 'LateAircraftDelay'. Cuando tenemos información sobre estas variables, su suma es igual al valor  de \"ArrDelay\". Como en la mayoría de ocasiones \"ArrDelay\" tiene valor aunque estas cinco varibles sean 0 o nulas, voy a sustituir sus valores nulos por 0, así no afectaré nada en cuanto al análisis.  "
   ]
  },
  {
   "cell_type": "code",
   "execution_count": 21,
   "id": "a703812c",
   "metadata": {},
   "outputs": [
    {
     "data": {
      "text/plain": [
       "Month                0\n",
       "DayofMonth           0\n",
       "DayOfWeek            0\n",
       "DepTime              0\n",
       "CRSDepTime           0\n",
       "ArrTime              0\n",
       "CRSArrTime           0\n",
       "UniqueCarrier        0\n",
       "FlightNum            0\n",
       "ActualElapsedTime    0\n",
       "CRSElapsedTime       0\n",
       "AirTime              0\n",
       "ArrDelay             0\n",
       "DepDelay             0\n",
       "Origin               0\n",
       "Dest                 0\n",
       "Distance             0\n",
       "Cancelled            0\n",
       "CancellationCode     0\n",
       "Diverted             0\n",
       "CarrierDelay         0\n",
       "WeatherDelay         0\n",
       "NASDelay             0\n",
       "SecurityDelay        0\n",
       "LateAircraftDelay    0\n",
       "dtype: int64"
      ]
     },
     "execution_count": 21,
     "metadata": {},
     "output_type": "execute_result"
    }
   ],
   "source": [
    "RetVuelos_Clean = RetVuel_Out1.fillna({'ArrTime':RetVuel_Out1['ArrTime'].median()}, inplace=False)\n",
    "RetVuelos_Clean.fillna({'ActualElapsedTime':RetVuelos_Clean['ActualElapsedTime'].median()}, inplace=True)\n",
    "RetVuelos_Clean.fillna({'CRSElapsedTime':RetVuelos_Clean['CRSElapsedTime'].median()}, inplace=True)\n",
    "RetVuelos_Clean.fillna({'AirTime':RetVuelos_Clean['AirTime'].median()}, inplace=True)\n",
    "RetVuelos_Clean.fillna({'ArrDelay':RetVuelos_Clean['ArrDelay'].median()}, inplace=True)\n",
    "RetVuelos_Clean.fillna({'CarrierDelay':0}, inplace=True)\n",
    "RetVuelos_Clean.fillna({'WeatherDelay':0}, inplace=True)\n",
    "RetVuelos_Clean.fillna({'NASDelay':0}, inplace=True)\n",
    "RetVuelos_Clean.fillna({'SecurityDelay':0}, inplace=True)\n",
    "RetVuelos_Clean.fillna({'LateAircraftDelay':0}, inplace=True)\n",
    "RetVuelos_Clean.isnull().sum()"
   ]
  },
  {
   "cell_type": "markdown",
   "id": "d1ccefa5",
   "metadata": {},
   "source": [
    "### Columna de **velocidad media de vuelo**, \"AverSpeed\" en millas por hora. "
   ]
  },
  {
   "cell_type": "code",
   "execution_count": 22,
   "id": "c026fc39",
   "metadata": {},
   "outputs": [],
   "source": [
    "RetVuelos_Clean.insert(12,\"AverSpeed\", RetVuelos_Clean['Distance']/(RetVuelos_Clean['AirTime']/60), allow_duplicates=False)"
   ]
  },
  {
   "cell_type": "code",
   "execution_count": 23,
   "id": "e00dc188",
   "metadata": {},
   "outputs": [
    {
     "data": {
      "text/html": [
       "<div>\n",
       "<style scoped>\n",
       "    .dataframe tbody tr th:only-of-type {\n",
       "        vertical-align: middle;\n",
       "    }\n",
       "\n",
       "    .dataframe tbody tr th {\n",
       "        vertical-align: top;\n",
       "    }\n",
       "\n",
       "    .dataframe thead th {\n",
       "        text-align: right;\n",
       "    }\n",
       "</style>\n",
       "<table border=\"1\" class=\"dataframe\">\n",
       "  <thead>\n",
       "    <tr style=\"text-align: right;\">\n",
       "      <th></th>\n",
       "      <th>AverSpeed</th>\n",
       "    </tr>\n",
       "  </thead>\n",
       "  <tbody>\n",
       "    <tr>\n",
       "      <th>1750755</th>\n",
       "      <td>384.49</td>\n",
       "    </tr>\n",
       "    <tr>\n",
       "      <th>1074983</th>\n",
       "      <td>422.85</td>\n",
       "    </tr>\n",
       "    <tr>\n",
       "      <th>46126</th>\n",
       "      <td>454.44</td>\n",
       "    </tr>\n",
       "    <tr>\n",
       "      <th>327441</th>\n",
       "      <td>396.75</td>\n",
       "    </tr>\n",
       "    <tr>\n",
       "      <th>1363177</th>\n",
       "      <td>404.16</td>\n",
       "    </tr>\n",
       "  </tbody>\n",
       "</table>\n",
       "</div>"
      ],
      "text/plain": [
       "         AverSpeed\n",
       "1750755     384.49\n",
       "1074983     422.85\n",
       "46126       454.44\n",
       "327441      396.75\n",
       "1363177     404.16"
      ]
     },
     "execution_count": 23,
     "metadata": {},
     "output_type": "execute_result"
    }
   ],
   "source": [
    "round(RetVuelos_Clean[['AverSpeed']],2)[:5]"
   ]
  },
  {
   "cell_type": "markdown",
   "id": "50bed417",
   "metadata": {},
   "source": [
    "### Columna de los **vuelos que han llegado tarde**. Tomo en cuenta que un vuelo se considera retrasado cuando pasa de 15 minutos su hora de llegada."
   ]
  },
  {
   "cell_type": "code",
   "execution_count": 24,
   "id": "e6cdcb0e",
   "metadata": {},
   "outputs": [],
   "source": [
    "RetVuelos_Clean['FlightDelay'] = RetVuelos_Clean['ArrDelay'].apply(lambda x: 1 if x>=15 else 0)"
   ]
  },
  {
   "cell_type": "code",
   "execution_count": 25,
   "id": "da12d774",
   "metadata": {},
   "outputs": [
    {
     "data": {
      "text/html": [
       "<div>\n",
       "<style scoped>\n",
       "    .dataframe tbody tr th:only-of-type {\n",
       "        vertical-align: middle;\n",
       "    }\n",
       "\n",
       "    .dataframe tbody tr th {\n",
       "        vertical-align: top;\n",
       "    }\n",
       "\n",
       "    .dataframe thead th {\n",
       "        text-align: right;\n",
       "    }\n",
       "</style>\n",
       "<table border=\"1\" class=\"dataframe\">\n",
       "  <thead>\n",
       "    <tr style=\"text-align: right;\">\n",
       "      <th></th>\n",
       "      <th>ArrDelay</th>\n",
       "      <th>FlightDelay</th>\n",
       "    </tr>\n",
       "  </thead>\n",
       "  <tbody>\n",
       "    <tr>\n",
       "      <th>1750755</th>\n",
       "      <td>6.0</td>\n",
       "      <td>0</td>\n",
       "    </tr>\n",
       "    <tr>\n",
       "      <th>1074983</th>\n",
       "      <td>18.0</td>\n",
       "      <td>1</td>\n",
       "    </tr>\n",
       "    <tr>\n",
       "      <th>46126</th>\n",
       "      <td>63.0</td>\n",
       "      <td>1</td>\n",
       "    </tr>\n",
       "    <tr>\n",
       "      <th>327441</th>\n",
       "      <td>37.0</td>\n",
       "      <td>1</td>\n",
       "    </tr>\n",
       "    <tr>\n",
       "      <th>1363177</th>\n",
       "      <td>30.0</td>\n",
       "      <td>1</td>\n",
       "    </tr>\n",
       "  </tbody>\n",
       "</table>\n",
       "</div>"
      ],
      "text/plain": [
       "         ArrDelay  FlightDelay\n",
       "1750755       6.0            0\n",
       "1074983      18.0            1\n",
       "46126        63.0            1\n",
       "327441       37.0            1\n",
       "1363177      30.0            1"
      ]
     },
     "execution_count": 25,
     "metadata": {},
     "output_type": "execute_result"
    }
   ],
   "source": [
    "RetVuelos_Clean[['ArrDelay','FlightDelay']].head()"
   ]
  },
  {
   "cell_type": "code",
   "execution_count": 26,
   "id": "d8554504",
   "metadata": {},
   "outputs": [
    {
     "name": "stdout",
     "output_type": "stream",
     "text": [
      "Han llegado tarde 108409 vuelos. El 60.73 % del total.\n"
     ]
    }
   ],
   "source": [
    "print (\"Han llegado tarde\",RetVuelos_Clean['FlightDelay'][RetVuelos_Clean['FlightDelay']==1].count(),\"vuelos. El\", \n",
    "       round((RetVuelos_Clean['FlightDelay'][RetVuelos_Clean['FlightDelay']==1].count()/\n",
    "       RetVuelos_Clean['FlightDelay'].count())*100,2),\"% del total.\")"
   ]
  },
  {
   "cell_type": "markdown",
   "id": "c3c188cf",
   "metadata": {},
   "source": [
    "### Tabla de aerolíneas con mayores retrasos. \n",
    "- Tomo la **cantidad** de vuelos retrasados por encima de la media.  "
   ]
  },
  {
   "cell_type": "code",
   "execution_count": 27,
   "id": "bf3c7278",
   "metadata": {},
   "outputs": [
    {
     "data": {
      "text/html": [
       "<div>\n",
       "<style scoped>\n",
       "    .dataframe tbody tr th:only-of-type {\n",
       "        vertical-align: middle;\n",
       "    }\n",
       "\n",
       "    .dataframe tbody tr th {\n",
       "        vertical-align: top;\n",
       "    }\n",
       "\n",
       "    .dataframe thead th {\n",
       "        text-align: right;\n",
       "    }\n",
       "</style>\n",
       "<table border=\"1\" class=\"dataframe\">\n",
       "  <thead>\n",
       "    <tr style=\"text-align: right;\">\n",
       "      <th></th>\n",
       "      <th>FlightDelay</th>\n",
       "    </tr>\n",
       "    <tr>\n",
       "      <th>UniqueCarrier</th>\n",
       "      <th></th>\n",
       "    </tr>\n",
       "  </thead>\n",
       "  <tbody>\n",
       "    <tr>\n",
       "      <th>WN</th>\n",
       "      <td>19426</td>\n",
       "    </tr>\n",
       "    <tr>\n",
       "      <th>AA</th>\n",
       "      <td>11629</td>\n",
       "    </tr>\n",
       "    <tr>\n",
       "      <th>MQ</th>\n",
       "      <td>8779</td>\n",
       "    </tr>\n",
       "    <tr>\n",
       "      <th>UA</th>\n",
       "      <td>7815</td>\n",
       "    </tr>\n",
       "    <tr>\n",
       "      <th>OO</th>\n",
       "      <td>7379</td>\n",
       "    </tr>\n",
       "    <tr>\n",
       "      <th>DL</th>\n",
       "      <td>6312</td>\n",
       "    </tr>\n",
       "    <tr>\n",
       "      <th>XE</th>\n",
       "      <td>5901</td>\n",
       "    </tr>\n",
       "  </tbody>\n",
       "</table>\n",
       "</div>"
      ],
      "text/plain": [
       "               FlightDelay\n",
       "UniqueCarrier             \n",
       "WN                   19426\n",
       "AA                   11629\n",
       "MQ                    8779\n",
       "UA                    7815\n",
       "OO                    7379\n",
       "DL                    6312\n",
       "XE                    5901"
      ]
     },
     "execution_count": 27,
     "metadata": {},
     "output_type": "execute_result"
    }
   ],
   "source": [
    "AeroRetras = RetVuelos_Clean.groupby(\"UniqueCarrier\")[[\"FlightDelay\"]].sum().sort_values('FlightDelay',ascending=False)\n",
    "AeroRetras[[\"FlightDelay\"]][AeroRetras[\"FlightDelay\"]>AeroRetras[\"FlightDelay\"].mean()]"
   ]
  },
  {
   "cell_type": "markdown",
   "id": "ef265421",
   "metadata": {},
   "source": [
    "Las tres aerolíneas con la mayor cantidad de vuelos restrasdos son Southwest Airlines, American Airlines y American Eagle. "
   ]
  },
  {
   "cell_type": "markdown",
   "id": "c3ad9acb",
   "metadata": {},
   "source": [
    "### Tabla de **aerolíneas con la mayor cantidad de horas de retraso**. \n",
    "- Identifico aquellas aerolíneas que acumulan vuelos con minutos de retraso por encima de la media y los transformo en horas. "
   ]
  },
  {
   "cell_type": "code",
   "execution_count": 28,
   "id": "7a15805a",
   "metadata": {},
   "outputs": [
    {
     "data": {
      "text/html": [
       "<div>\n",
       "<style scoped>\n",
       "    .dataframe tbody tr th:only-of-type {\n",
       "        vertical-align: middle;\n",
       "    }\n",
       "\n",
       "    .dataframe tbody tr th {\n",
       "        vertical-align: top;\n",
       "    }\n",
       "\n",
       "    .dataframe thead th {\n",
       "        text-align: right;\n",
       "    }\n",
       "</style>\n",
       "<table border=\"1\" class=\"dataframe\">\n",
       "  <thead>\n",
       "    <tr style=\"text-align: right;\">\n",
       "      <th></th>\n",
       "      <th>ArrDelay</th>\n",
       "    </tr>\n",
       "    <tr>\n",
       "      <th>UniqueCarrier</th>\n",
       "      <th></th>\n",
       "    </tr>\n",
       "  </thead>\n",
       "  <tbody>\n",
       "    <tr>\n",
       "      <th>WN</th>\n",
       "      <td>14857.23</td>\n",
       "    </tr>\n",
       "    <tr>\n",
       "      <th>AA</th>\n",
       "      <td>9383.60</td>\n",
       "    </tr>\n",
       "    <tr>\n",
       "      <th>MQ</th>\n",
       "      <td>7283.58</td>\n",
       "    </tr>\n",
       "    <tr>\n",
       "      <th>UA</th>\n",
       "      <td>6577.50</td>\n",
       "    </tr>\n",
       "    <tr>\n",
       "      <th>OO</th>\n",
       "      <td>5954.33</td>\n",
       "    </tr>\n",
       "    <tr>\n",
       "      <th>XE</th>\n",
       "      <td>4844.12</td>\n",
       "    </tr>\n",
       "    <tr>\n",
       "      <th>DL</th>\n",
       "      <td>4723.98</td>\n",
       "    </tr>\n",
       "  </tbody>\n",
       "</table>\n",
       "</div>"
      ],
      "text/plain": [
       "               ArrDelay\n",
       "UniqueCarrier          \n",
       "WN             14857.23\n",
       "AA              9383.60\n",
       "MQ              7283.58\n",
       "UA              6577.50\n",
       "OO              5954.33\n",
       "XE              4844.12\n",
       "DL              4723.98"
      ]
     },
     "execution_count": 28,
     "metadata": {},
     "output_type": "execute_result"
    }
   ],
   "source": [
    "AR = RetVuelos_Clean.groupby(\"UniqueCarrier\")[[\"ArrDelay\"]].sum().sort_values('ArrDelay',ascending=False)\n",
    "round(AR[[\"ArrDelay\"]][AR[\"ArrDelay\"]>AR[\"ArrDelay\"].mean()].apply(lambda x: x/60),2)"
   ]
  },
  {
   "cell_type": "markdown",
   "id": "2e128f9c",
   "metadata": {},
   "source": [
    "Las tres aerolíneas con la mayor cantidad de horas de retraso son nuevamente Southwest Airlines, American Airlines y American Eagle. La única diferencia entre minutos y cantidad de vuelos de retraso es que JSX pasa de ser la séptima que tinene el mayor número de vuelos restrasados a la sexta en cuanto a horas de retraso, lo inverso que Delta Airlines. "
   ]
  },
  {
   "cell_type": "markdown",
   "id": "a3d999b6",
   "metadata": {},
   "source": [
    "### Rutas más largas\n",
    "- Tomo aquellos vuelos que están a tres veces el rango intercualtílico del tercer cuartil. "
   ]
  },
  {
   "cell_type": "code",
   "execution_count": 29,
   "id": "8f554301",
   "metadata": {},
   "outputs": [
    {
     "data": {
      "text/plain": [
       "2974.0"
      ]
     },
     "execution_count": 29,
     "metadata": {},
     "output_type": "execute_result"
    }
   ],
   "source": [
    "Q1Dist = RetVuelos_Clean['Distance'].quantile(0.25)\n",
    "Q3Dist = RetVuelos_Clean['Distance'].quantile(0.75)\n",
    "IQR_Dist = Q3Dist - Q1Dist\n",
    "LimitSupD = Q3Dist + 3 * IQR_Dist\n",
    "LimitSupD"
   ]
  },
  {
   "cell_type": "code",
   "execution_count": 30,
   "id": "5bcf680d",
   "metadata": {},
   "outputs": [
    {
     "data": {
      "text/html": [
       "<div>\n",
       "<style scoped>\n",
       "    .dataframe tbody tr th:only-of-type {\n",
       "        vertical-align: middle;\n",
       "    }\n",
       "\n",
       "    .dataframe tbody tr th {\n",
       "        vertical-align: top;\n",
       "    }\n",
       "\n",
       "    .dataframe thead th {\n",
       "        text-align: right;\n",
       "    }\n",
       "</style>\n",
       "<table border=\"1\" class=\"dataframe\">\n",
       "  <thead>\n",
       "    <tr style=\"text-align: right;\">\n",
       "      <th></th>\n",
       "      <th>UniqueCarrier</th>\n",
       "      <th>Origin</th>\n",
       "      <th>Dest</th>\n",
       "      <th>Distance</th>\n",
       "    </tr>\n",
       "  </thead>\n",
       "  <tbody>\n",
       "    <tr>\n",
       "      <th>334031</th>\n",
       "      <td>AA</td>\n",
       "      <td>LAX</td>\n",
       "      <td>SJU</td>\n",
       "      <td>3386</td>\n",
       "    </tr>\n",
       "    <tr>\n",
       "      <th>145838</th>\n",
       "      <td>AA</td>\n",
       "      <td>LAX</td>\n",
       "      <td>SJU</td>\n",
       "      <td>3386</td>\n",
       "    </tr>\n",
       "    <tr>\n",
       "      <th>145843</th>\n",
       "      <td>AA</td>\n",
       "      <td>LAX</td>\n",
       "      <td>SJU</td>\n",
       "      <td>3386</td>\n",
       "    </tr>\n",
       "    <tr>\n",
       "      <th>528826</th>\n",
       "      <td>AA</td>\n",
       "      <td>LAX</td>\n",
       "      <td>SJU</td>\n",
       "      <td>3386</td>\n",
       "    </tr>\n",
       "    <tr>\n",
       "      <th>1147412</th>\n",
       "      <td>UA</td>\n",
       "      <td>HNL</td>\n",
       "      <td>DEN</td>\n",
       "      <td>3365</td>\n",
       "    </tr>\n",
       "    <tr>\n",
       "      <th>969317</th>\n",
       "      <td>UA</td>\n",
       "      <td>KOA</td>\n",
       "      <td>DEN</td>\n",
       "      <td>3329</td>\n",
       "    </tr>\n",
       "    <tr>\n",
       "      <th>957317</th>\n",
       "      <td>UA</td>\n",
       "      <td>OGG</td>\n",
       "      <td>DEN</td>\n",
       "      <td>3303</td>\n",
       "    </tr>\n",
       "    <tr>\n",
       "      <th>77528</th>\n",
       "      <td>UA</td>\n",
       "      <td>OGG</td>\n",
       "      <td>DEN</td>\n",
       "      <td>3303</td>\n",
       "    </tr>\n",
       "    <tr>\n",
       "      <th>1421966</th>\n",
       "      <td>CO</td>\n",
       "      <td>ANC</td>\n",
       "      <td>IAH</td>\n",
       "      <td>3266</td>\n",
       "    </tr>\n",
       "    <tr>\n",
       "      <th>1066736</th>\n",
       "      <td>CO</td>\n",
       "      <td>ANC</td>\n",
       "      <td>IAH</td>\n",
       "      <td>3266</td>\n",
       "    </tr>\n",
       "  </tbody>\n",
       "</table>\n",
       "</div>"
      ],
      "text/plain": [
       "        UniqueCarrier Origin Dest  Distance\n",
       "334031             AA    LAX  SJU      3386\n",
       "145838             AA    LAX  SJU      3386\n",
       "145843             AA    LAX  SJU      3386\n",
       "528826             AA    LAX  SJU      3386\n",
       "1147412            UA    HNL  DEN      3365\n",
       "969317             UA    KOA  DEN      3329\n",
       "957317             UA    OGG  DEN      3303\n",
       "77528              UA    OGG  DEN      3303\n",
       "1421966            CO    ANC  IAH      3266\n",
       "1066736            CO    ANC  IAH      3266"
      ]
     },
     "execution_count": 30,
     "metadata": {},
     "output_type": "execute_result"
    }
   ],
   "source": [
    "VL = RetVuelos_Clean[['UniqueCarrier','Origin','Dest',\"Distance\"]][RetVuelos_Clean[\"Distance\"]>=LimitSupD].sort_values('Distance',ascending=False)\n",
    "VL[:10]"
   ]
  },
  {
   "cell_type": "code",
   "execution_count": 31,
   "id": "21453bc7",
   "metadata": {},
   "outputs": [
    {
     "name": "stdout",
     "output_type": "stream",
     "text": [
      "Las rutas más largas en millas son: \n",
      " [3386 3365 3329 3303 3266 3110 3043 2994 2986 2979]\n"
     ]
    }
   ],
   "source": [
    "print (\"Las rutas más largas en millas son:\", '\\n',VL[\"Distance\"].unique())"
   ]
  },
  {
   "cell_type": "code",
   "execution_count": 32,
   "id": "88d7fc06",
   "metadata": {},
   "outputs": [
    {
     "name": "stdout",
     "output_type": "stream",
     "text": [
      "Son un total de 41 vuelos con 8 rutas. Las tres rutas más largas son: Los Ángeles - San Juan de Puerto Rico con 3,386 millas, Honolulu - Denver con 3,365 millas y Kalaoa - Denver con 3,329 millas.\n"
     ]
    }
   ],
   "source": [
    "print (\"Son un total de\",RetVuelos_Clean[\"Distance\"][RetVuelos_Clean[\"Distance\"]>=2974].count(),\n",
    "       \"vuelos con 8 rutas. Las tres rutas más largas son: Los Ángeles - San Juan de Puerto Rico con 3,386 millas,\" \n",
    "       \" Honolulu - Denver con 3,365 millas y Kalaoa - Denver con 3,329 millas.\")"
   ]
  },
  {
   "cell_type": "markdown",
   "id": "88ba4dcd",
   "metadata": {},
   "source": [
    "### Destinos con mayores retrasos acumulados en horas\n",
    "- Uso la variable \"Dest\" (aereopuerto de destino) ya que \"ArrDelay\" toma el tiempo de llegada real y previsto para calcular la demora. Transformo los minutos a horas.  \n",
    "- Tomo los 10 primeros destinos con mayor retraso. "
   ]
  },
  {
   "cell_type": "code",
   "execution_count": 33,
   "id": "c02ecbbf",
   "metadata": {},
   "outputs": [
    {
     "data": {
      "text/html": [
       "<div>\n",
       "<style scoped>\n",
       "    .dataframe tbody tr th:only-of-type {\n",
       "        vertical-align: middle;\n",
       "    }\n",
       "\n",
       "    .dataframe tbody tr th {\n",
       "        vertical-align: top;\n",
       "    }\n",
       "\n",
       "    .dataframe thead th {\n",
       "        text-align: right;\n",
       "    }\n",
       "</style>\n",
       "<table border=\"1\" class=\"dataframe\">\n",
       "  <thead>\n",
       "    <tr style=\"text-align: right;\">\n",
       "      <th></th>\n",
       "      <th>ArrDelay</th>\n",
       "    </tr>\n",
       "    <tr>\n",
       "      <th>Dest</th>\n",
       "      <th></th>\n",
       "    </tr>\n",
       "  </thead>\n",
       "  <tbody>\n",
       "    <tr>\n",
       "      <th>ATL</th>\n",
       "      <td>4862.88</td>\n",
       "    </tr>\n",
       "    <tr>\n",
       "      <th>ORD</th>\n",
       "      <td>4721.57</td>\n",
       "    </tr>\n",
       "    <tr>\n",
       "      <th>DFW</th>\n",
       "      <td>3359.18</td>\n",
       "    </tr>\n",
       "    <tr>\n",
       "      <th>DEN</th>\n",
       "      <td>2648.45</td>\n",
       "    </tr>\n",
       "    <tr>\n",
       "      <th>LAX</th>\n",
       "      <td>2522.35</td>\n",
       "    </tr>\n",
       "    <tr>\n",
       "      <th>LAS</th>\n",
       "      <td>2162.30</td>\n",
       "    </tr>\n",
       "    <tr>\n",
       "      <th>EWR</th>\n",
       "      <td>2055.07</td>\n",
       "    </tr>\n",
       "    <tr>\n",
       "      <th>IAH</th>\n",
       "      <td>1911.75</td>\n",
       "    </tr>\n",
       "    <tr>\n",
       "      <th>PHX</th>\n",
       "      <td>1807.12</td>\n",
       "    </tr>\n",
       "    <tr>\n",
       "      <th>SFO</th>\n",
       "      <td>1791.50</td>\n",
       "    </tr>\n",
       "  </tbody>\n",
       "</table>\n",
       "</div>"
      ],
      "text/plain": [
       "      ArrDelay\n",
       "Dest          \n",
       "ATL    4862.88\n",
       "ORD    4721.57\n",
       "DFW    3359.18\n",
       "DEN    2648.45\n",
       "LAX    2522.35\n",
       "LAS    2162.30\n",
       "EWR    2055.07\n",
       "IAH    1911.75\n",
       "PHX    1807.12\n",
       "SFO    1791.50"
      ]
     },
     "execution_count": 33,
     "metadata": {},
     "output_type": "execute_result"
    }
   ],
   "source": [
    "DestRet = RetVuelos_Clean.groupby(\"Dest\")[[\"ArrDelay\"]].sum().sort_values('ArrDelay',ascending=False).nlargest(10,\"ArrDelay\")\n",
    "round(DestRet[[\"ArrDelay\"]]/60,2)"
   ]
  },
  {
   "cell_type": "markdown",
   "id": "9ea7d65e",
   "metadata": {},
   "source": [
    "- Los tres destinos con mayores retrasos acumulados son: Atlanta, Chicago y Dallas Fort Worth"
   ]
  },
  {
   "cell_type": "markdown",
   "id": "7cdc9afa",
   "metadata": {},
   "source": [
    "### Rutas con mayores retrasos"
   ]
  },
  {
   "cell_type": "code",
   "execution_count": 34,
   "id": "001b9675",
   "metadata": {},
   "outputs": [
    {
     "data": {
      "text/html": [
       "<div>\n",
       "<style scoped>\n",
       "    .dataframe tbody tr th:only-of-type {\n",
       "        vertical-align: middle;\n",
       "    }\n",
       "\n",
       "    .dataframe tbody tr th {\n",
       "        vertical-align: top;\n",
       "    }\n",
       "\n",
       "    .dataframe thead th {\n",
       "        text-align: right;\n",
       "    }\n",
       "</style>\n",
       "<table border=\"1\" class=\"dataframe\">\n",
       "  <thead>\n",
       "    <tr style=\"text-align: right;\">\n",
       "      <th></th>\n",
       "      <th>Origin</th>\n",
       "      <th>Dest</th>\n",
       "      <th>ArrDelay</th>\n",
       "    </tr>\n",
       "  </thead>\n",
       "  <tbody>\n",
       "    <tr>\n",
       "      <th>1349146</th>\n",
       "      <td>MSY</td>\n",
       "      <td>ATL</td>\n",
       "      <td>196.0</td>\n",
       "    </tr>\n",
       "    <tr>\n",
       "      <th>1146731</th>\n",
       "      <td>ATL</td>\n",
       "      <td>OKC</td>\n",
       "      <td>196.0</td>\n",
       "    </tr>\n",
       "    <tr>\n",
       "      <th>335706</th>\n",
       "      <td>DFW</td>\n",
       "      <td>OKC</td>\n",
       "      <td>196.0</td>\n",
       "    </tr>\n",
       "    <tr>\n",
       "      <th>1134808</th>\n",
       "      <td>JFK</td>\n",
       "      <td>RDU</td>\n",
       "      <td>196.0</td>\n",
       "    </tr>\n",
       "    <tr>\n",
       "      <th>330174</th>\n",
       "      <td>DAY</td>\n",
       "      <td>MSP</td>\n",
       "      <td>196.0</td>\n",
       "    </tr>\n",
       "    <tr>\n",
       "      <th>1926465</th>\n",
       "      <td>LAX</td>\n",
       "      <td>IAH</td>\n",
       "      <td>196.0</td>\n",
       "    </tr>\n",
       "    <tr>\n",
       "      <th>58213</th>\n",
       "      <td>SUN</td>\n",
       "      <td>SLC</td>\n",
       "      <td>196.0</td>\n",
       "    </tr>\n",
       "    <tr>\n",
       "      <th>1400565</th>\n",
       "      <td>MIA</td>\n",
       "      <td>TPA</td>\n",
       "      <td>195.0</td>\n",
       "    </tr>\n",
       "    <tr>\n",
       "      <th>119588</th>\n",
       "      <td>DFW</td>\n",
       "      <td>CID</td>\n",
       "      <td>195.0</td>\n",
       "    </tr>\n",
       "    <tr>\n",
       "      <th>1027032</th>\n",
       "      <td>MDW</td>\n",
       "      <td>MSP</td>\n",
       "      <td>195.0</td>\n",
       "    </tr>\n",
       "  </tbody>\n",
       "</table>\n",
       "</div>"
      ],
      "text/plain": [
       "        Origin Dest  ArrDelay\n",
       "1349146    MSY  ATL     196.0\n",
       "1146731    ATL  OKC     196.0\n",
       "335706     DFW  OKC     196.0\n",
       "1134808    JFK  RDU     196.0\n",
       "330174     DAY  MSP     196.0\n",
       "1926465    LAX  IAH     196.0\n",
       "58213      SUN  SLC     196.0\n",
       "1400565    MIA  TPA     195.0\n",
       "119588     DFW  CID     195.0\n",
       "1027032    MDW  MSP     195.0"
      ]
     },
     "execution_count": 34,
     "metadata": {},
     "output_type": "execute_result"
    }
   ],
   "source": [
    "RutasRetras= RetVuelos_Clean[['Origin','Dest','ArrDelay']].sort_values('ArrDelay',ascending=False)\n",
    "RutasRetras[:10]"
   ]
  },
  {
   "cell_type": "markdown",
   "id": "8495ee59",
   "metadata": {},
   "source": [
    "- Las tres **rutas con mayores retrasos** son: New Orleans - Atlanta, Atlanta - Oklahoma y Dallas Fort Worth - Oklahoma, como se muestra en la siguiente tabla con las diez rutas con mayores retrasos en 2008."
   ]
  },
  {
   "cell_type": "markdown",
   "id": "2ca64ebf",
   "metadata": {},
   "source": [
    "### Retrasos acumulados en horas por día de la semana y aerolinea."
   ]
  },
  {
   "cell_type": "code",
   "execution_count": 35,
   "id": "d7bb92bb",
   "metadata": {},
   "outputs": [
    {
     "data": {
      "text/html": [
       "<div>\n",
       "<style scoped>\n",
       "    .dataframe tbody tr th:only-of-type {\n",
       "        vertical-align: middle;\n",
       "    }\n",
       "\n",
       "    .dataframe tbody tr th {\n",
       "        vertical-align: top;\n",
       "    }\n",
       "\n",
       "    .dataframe thead th {\n",
       "        text-align: right;\n",
       "    }\n",
       "</style>\n",
       "<table border=\"1\" class=\"dataframe\">\n",
       "  <thead>\n",
       "    <tr style=\"text-align: right;\">\n",
       "      <th></th>\n",
       "      <th></th>\n",
       "      <th>ArrDelay</th>\n",
       "    </tr>\n",
       "    <tr>\n",
       "      <th>DayOfWeek</th>\n",
       "      <th>UniqueCarrier</th>\n",
       "      <th></th>\n",
       "    </tr>\n",
       "  </thead>\n",
       "  <tbody>\n",
       "    <tr>\n",
       "      <th rowspan=\"5\" valign=\"top\">1</th>\n",
       "      <th>9E</th>\n",
       "      <td>383.18</td>\n",
       "    </tr>\n",
       "    <tr>\n",
       "      <th>AA</th>\n",
       "      <td>1460.15</td>\n",
       "    </tr>\n",
       "    <tr>\n",
       "      <th>AQ</th>\n",
       "      <td>2.35</td>\n",
       "    </tr>\n",
       "    <tr>\n",
       "      <th>AS</th>\n",
       "      <td>242.75</td>\n",
       "    </tr>\n",
       "    <tr>\n",
       "      <th>B6</th>\n",
       "      <td>379.45</td>\n",
       "    </tr>\n",
       "    <tr>\n",
       "      <th>...</th>\n",
       "      <th>...</th>\n",
       "      <td>...</td>\n",
       "    </tr>\n",
       "    <tr>\n",
       "      <th rowspan=\"5\" valign=\"top\">7</th>\n",
       "      <th>UA</th>\n",
       "      <td>1003.08</td>\n",
       "    </tr>\n",
       "    <tr>\n",
       "      <th>US</th>\n",
       "      <td>578.18</td>\n",
       "    </tr>\n",
       "    <tr>\n",
       "      <th>WN</th>\n",
       "      <td>2298.23</td>\n",
       "    </tr>\n",
       "    <tr>\n",
       "      <th>XE</th>\n",
       "      <td>642.70</td>\n",
       "    </tr>\n",
       "    <tr>\n",
       "      <th>YV</th>\n",
       "      <td>418.07</td>\n",
       "    </tr>\n",
       "  </tbody>\n",
       "</table>\n",
       "<p>140 rows × 1 columns</p>\n",
       "</div>"
      ],
      "text/plain": [
       "                         ArrDelay\n",
       "DayOfWeek UniqueCarrier          \n",
       "1         9E               383.18\n",
       "          AA              1460.15\n",
       "          AQ                 2.35\n",
       "          AS               242.75\n",
       "          B6               379.45\n",
       "...                           ...\n",
       "7         UA              1003.08\n",
       "          US               578.18\n",
       "          WN              2298.23\n",
       "          XE               642.70\n",
       "          YV               418.07\n",
       "\n",
       "[140 rows x 1 columns]"
      ]
     },
     "execution_count": 35,
     "metadata": {},
     "output_type": "execute_result"
    }
   ],
   "source": [
    "RetDiaCarrier = RetVuelos_Clean. groupby (['DayOfWeek','UniqueCarrier'])[[\"ArrDelay\"]].sum()\n",
    "round(RetDiaCarrier/60,2)"
   ]
  },
  {
   "cell_type": "markdown",
   "id": "447da6e8",
   "metadata": {},
   "source": [
    "### Retrasos acumulados en horas y cantidad de vuelos restrasados por día de la semana"
   ]
  },
  {
   "cell_type": "code",
   "execution_count": 36,
   "id": "580e7ba1",
   "metadata": {},
   "outputs": [
    {
     "data": {
      "text/html": [
       "<div>\n",
       "<style scoped>\n",
       "    .dataframe tbody tr th:only-of-type {\n",
       "        vertical-align: middle;\n",
       "    }\n",
       "\n",
       "    .dataframe tbody tr th {\n",
       "        vertical-align: top;\n",
       "    }\n",
       "\n",
       "    .dataframe thead th {\n",
       "        text-align: right;\n",
       "    }\n",
       "</style>\n",
       "<table border=\"1\" class=\"dataframe\">\n",
       "  <thead>\n",
       "    <tr style=\"text-align: right;\">\n",
       "      <th></th>\n",
       "      <th>ArrDelay</th>\n",
       "      <th>NVuelos</th>\n",
       "    </tr>\n",
       "  </thead>\n",
       "  <tbody>\n",
       "    <tr>\n",
       "      <th>Lunes</th>\n",
       "      <td>12771.88</td>\n",
       "      <td>26806</td>\n",
       "    </tr>\n",
       "    <tr>\n",
       "      <th>Martes</th>\n",
       "      <td>11479.73</td>\n",
       "      <td>23669</td>\n",
       "    </tr>\n",
       "    <tr>\n",
       "      <th>Miércoles</th>\n",
       "      <td>11407.98</td>\n",
       "      <td>24426</td>\n",
       "    </tr>\n",
       "    <tr>\n",
       "      <th>Jueves</th>\n",
       "      <td>12846.40</td>\n",
       "      <td>26928</td>\n",
       "    </tr>\n",
       "    <tr>\n",
       "      <th>Viernes</th>\n",
       "      <td>15166.90</td>\n",
       "      <td>29860</td>\n",
       "    </tr>\n",
       "    <tr>\n",
       "      <th>Sábado</th>\n",
       "      <td>9356.57</td>\n",
       "      <td>21006</td>\n",
       "    </tr>\n",
       "    <tr>\n",
       "      <th>Domingo</th>\n",
       "      <td>12469.40</td>\n",
       "      <td>25821</td>\n",
       "    </tr>\n",
       "  </tbody>\n",
       "</table>\n",
       "</div>"
      ],
      "text/plain": [
       "           ArrDelay  NVuelos\n",
       "Lunes      12771.88    26806\n",
       "Martes     11479.73    23669\n",
       "Miércoles  11407.98    24426\n",
       "Jueves     12846.40    26928\n",
       "Viernes    15166.90    29860\n",
       "Sábado      9356.57    21006\n",
       "Domingo    12469.40    25821"
      ]
     },
     "execution_count": 36,
     "metadata": {},
     "output_type": "execute_result"
    }
   ],
   "source": [
    "Ret_DiaSem = round((RetVuelos_Clean.groupby('DayOfWeek')[['ArrDelay']].sum())/60,2)\n",
    "Ret_DiaSem.index=['Lunes','Martes','Miércoles','Jueves','Viernes','Sábado','Domingo']\n",
    "NumVuelo_DiaSem = RetVuelos_Clean.groupby('DayOfWeek')[['FlightNum']].count()\n",
    "NumVuelo_DiaSem.index=['Lunes','Martes','Miércoles','Jueves','Viernes','Sábado','Domingo']\n",
    "RVH = NumVuelo_DiaSem.rename(columns={ 'FlightNum': 'NVuelos'})\n",
    "R = pd.concat([Ret_DiaSem, RVH], axis=1)\n",
    "R"
   ]
  },
  {
   "cell_type": "markdown",
   "id": "16de1806",
   "metadata": {},
   "source": [
    "- El día de la semana con mayores retrasos es el viernes y también es el que tiene la mayor cantidad de vuelos restrasados. "
   ]
  },
  {
   "cell_type": "code",
   "execution_count": 37,
   "id": "7c927970",
   "metadata": {},
   "outputs": [
    {
     "data": {
      "image/png": "[encoded data removed]",
      "text/plain": [
       "<Figure size 640x480 with 1 Axes>"
      ]
     },
     "metadata": {},
     "output_type": "display_data"
    }
   ],
   "source": [
    "import matplotlib.pyplot as plt\n",
    "import numpy as np\n",
    "data = R\n",
    "\n",
    "n = len(data.index)\n",
    "x = np.arange(n)\n",
    "width = 0.4\n",
    "plt.bar(x - width, data.ArrDelay, width=width, label='Hrs retraso')\n",
    "plt.bar(x, data.NVuelos, width=width, label='Nº vuelos')\n",
    "plt.xticks(x, data.index)\n",
    "plt.legend(loc='best')\n",
    "plt.title('Vuelos y horas retraso por días de la semana. Año 2008')\n",
    "plt.ylabel('Acumulado 2008')\n",
    "plt.show()"
   ]
  },
  {
   "cell_type": "markdown",
   "id": "db5d676e",
   "metadata": {},
   "source": [
    "### Causas de los retrasos en horas"
   ]
  },
  {
   "cell_type": "code",
   "execution_count": 38,
   "id": "f1068aeb",
   "metadata": {},
   "outputs": [
    {
     "data": {
      "text/plain": [
       "CarrierDelay         22701.97\n",
       "WeatherDelay          5583.42\n",
       "NASDelay             13341.43\n",
       "SecurityDelay          170.40\n",
       "LateAircraftDelay    39215.78\n",
       "dtype: float64"
      ]
     },
     "execution_count": 38,
     "metadata": {},
     "output_type": "execute_result"
    }
   ],
   "source": [
    "RR = round((RetVuelos_Clean[['CarrierDelay','WeatherDelay', 'NASDelay','SecurityDelay','LateAircraftDelay']].sum())/60,2)\n",
    "RR"
   ]
  },
  {
   "cell_type": "code",
   "execution_count": 39,
   "id": "78aeae6f",
   "metadata": {},
   "outputs": [
    {
     "data": {
      "image/png": "[encoded data removed]",
      "text/plain": [
       "<Figure size 640x480 with 1 Axes>"
      ]
     },
     "metadata": {},
     "output_type": "display_data"
    }
   ],
   "source": [
    "labels = ['CarrierDelay','WeatherDelay', 'NASDelay','SecurityDelay','LateAircraftDelay']\n",
    "explode = [0.1, 0.1, 0.1, 0.1, 0]\n",
    "plt.pie(RR,labels=labels,explode=explode,autopct=\"%0.1f %%\",shadow=True)\n",
    "plt.show()"
   ]
  },
  {
   "cell_type": "markdown",
   "id": "01611edb",
   "metadata": {},
   "source": [
    "- La causa más importante de los retrasos en vuelos son los retrasos de última hora del avión con un 48% del total de horas retrasadas, seguida de retraso del avión con 28% y en tercer lugar retrasos por NAS con 16,5%.    "
   ]
  },
  {
   "cell_type": "markdown",
   "id": "4dc3f74e",
   "metadata": {},
   "source": [
    "# Ejercicio 3"
   ]
  },
  {
   "cell_type": "code",
   "execution_count": 41,
   "id": "431e5fda",
   "metadata": {},
   "outputs": [
    {
     "name": "stdout",
     "output_type": "stream",
     "text": [
      "Los retrasos en vuelos se han exportado correctamente a un archivo de Excel\n"
     ]
    }
   ],
   "source": [
    "RetVuelos_Clean.to_excel('C:/Juan/ITAcademy/Sprint_3/Retraso_Vuelos.xlsx', sheet_name='Sheet1')\n",
    "print('Los retrasos en vuelos se han exportado correctamente a un archivo de Excel')"
   ]
  }
 ],
 "metadata": {
  "kernelspec": {
   "display_name": "Python 3 (ipykernel)",
   "language": "python",
   "name": "python3"
  },
  "language_info": {
   "codemirror_mode": {
    "name": "ipython",
    "version": 3
   },
   "file_extension": ".py",
   "mimetype": "text/x-python",
   "name": "python",
   "nbconvert_exporter": "python",
   "pygments_lexer": "ipython3",
   "version": "3.11.4"
  }
 },
 "nbformat": 4,
 "nbformat_minor": 5
}
